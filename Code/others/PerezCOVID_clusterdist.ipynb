{
 "cells": [
  {
   "cell_type": "code",
   "execution_count": 1,
   "id": "5d034731-c86c-471b-91c7-db931fb2790e",
   "metadata": {
    "tags": []
   },
   "outputs": [
    {
     "name": "stderr",
     "output_type": "stream",
     "text": [
      "Loading required package: SummarizedExperiment\n",
      "\n",
      "Loading required package: MatrixGenerics\n",
      "\n",
      "Loading required package: matrixStats\n",
      "\n",
      "\n",
      "Attaching package: ‘MatrixGenerics’\n",
      "\n",
      "\n",
      "The following objects are masked from ‘package:matrixStats’:\n",
      "\n",
      "    colAlls, colAnyNAs, colAnys, colAvgsPerRowSet, colCollapse,\n",
      "    colCounts, colCummaxs, colCummins, colCumprods, colCumsums,\n",
      "    colDiffs, colIQRDiffs, colIQRs, colLogSumExps, colMadDiffs,\n",
      "    colMads, colMaxs, colMeans2, colMedians, colMins, colOrderStats,\n",
      "    colProds, colQuantiles, colRanges, colRanks, colSdDiffs, colSds,\n",
      "    colSums2, colTabulates, colVarDiffs, colVars, colWeightedMads,\n",
      "    colWeightedMeans, colWeightedMedians, colWeightedSds,\n",
      "    colWeightedVars, rowAlls, rowAnyNAs, rowAnys, rowAvgsPerColSet,\n",
      "    rowCollapse, rowCounts, rowCummaxs, rowCummins, rowCumprods,\n",
      "    rowCumsums, rowDiffs, rowIQRDiffs, rowIQRs, rowLogSumExps,\n",
      "    rowMadDiffs, rowMads, rowMaxs, rowMeans2, rowMedians, rowMins,\n",
      "    rowOrderStats, rowProds, rowQuantiles, rowRanges, rowRanks,\n",
      "    rowSdDiffs, rowSds, rowSums2, rowTabulates, rowVarDiffs, rowVars,\n",
      "    rowWeightedMads, rowWeightedMeans, rowWeightedMedians,\n",
      "    rowWeightedSds, rowWeightedVars\n",
      "\n",
      "\n",
      "Loading required package: GenomicRanges\n",
      "\n",
      "Loading required package: stats4\n",
      "\n",
      "Loading required package: BiocGenerics\n",
      "\n",
      "\n",
      "Attaching package: ‘BiocGenerics’\n",
      "\n",
      "\n",
      "The following objects are masked from ‘package:stats’:\n",
      "\n",
      "    IQR, mad, sd, var, xtabs\n",
      "\n",
      "\n",
      "The following objects are masked from ‘package:base’:\n",
      "\n",
      "    anyDuplicated, aperm, append, as.data.frame, basename, cbind,\n",
      "    colnames, dirname, do.call, duplicated, eval, evalq, Filter, Find,\n",
      "    get, grep, grepl, intersect, is.unsorted, lapply, Map, mapply,\n",
      "    match, mget, order, paste, pmax, pmax.int, pmin, pmin.int,\n",
      "    Position, rank, rbind, Reduce, rownames, sapply, setdiff, sort,\n",
      "    table, tapply, union, unique, unsplit, which.max, which.min\n",
      "\n",
      "\n",
      "Loading required package: S4Vectors\n",
      "\n",
      "\n",
      "Attaching package: ‘S4Vectors’\n",
      "\n",
      "\n",
      "The following object is masked from ‘package:utils’:\n",
      "\n",
      "    findMatches\n",
      "\n",
      "\n",
      "The following objects are masked from ‘package:base’:\n",
      "\n",
      "    expand.grid, I, unname\n",
      "\n",
      "\n",
      "Loading required package: IRanges\n",
      "\n",
      "Loading required package: GenomeInfoDb\n",
      "\n",
      "Loading required package: Biobase\n",
      "\n",
      "Welcome to Bioconductor\n",
      "\n",
      "    Vignettes contain introductory material; view with\n",
      "    'browseVignettes()'. To cite Bioconductor, see\n",
      "    'citation(\"Biobase\")', and for packages 'citation(\"pkgname\")'.\n",
      "\n",
      "\n",
      "\n",
      "Attaching package: ‘Biobase’\n",
      "\n",
      "\n",
      "The following object is masked from ‘package:MatrixGenerics’:\n",
      "\n",
      "    rowMedians\n",
      "\n",
      "\n",
      "The following objects are masked from ‘package:matrixStats’:\n",
      "\n",
      "    anyMissing, rowMedians\n",
      "\n",
      "\n"
     ]
    }
   ],
   "source": [
    "library(reticulate)\n",
    "library(sceasy)\n",
    "library(SingleCellExperiment)\n",
    "\n",
    "use_condaenv(\"PILOT\")\n",
    "pl <- import(\"PILOT\")\n",
    "sc <- import(\"scanpy\")\n"
   ]
  },
  {
   "cell_type": "code",
   "execution_count": 3,
   "id": "f6023f17-c34f-4d3c-a902-3eb46461a075",
   "metadata": {
    "tags": []
   },
   "outputs": [],
   "source": [
    "cluster_df <- readRDS(\"../Revision/cluspropSandbox/clustered_data/perezLupus_clustered.RDS\")"
   ]
  },
  {
   "cell_type": "code",
   "execution_count": 4,
   "id": "8055b4b4-f0fc-42ce-8d6d-8dbaae16bc0d",
   "metadata": {
    "tags": []
   },
   "outputs": [],
   "source": [
    "anndata <- sc$read_h5ad(\"../Revision/cluspropSandbox/clustered_data/perezLupus.h5ad\")\n"
   ]
  },
  {
   "cell_type": "code",
   "execution_count": 5,
   "id": "afafbd67-d570-4a54-8f18-e1caa8759530",
   "metadata": {
    "tags": []
   },
   "outputs": [],
   "source": [
    "    pl$tl$wasserstein_distance(\n",
    "        anndata,\n",
    "        emb_matrix = 'X_pca',\n",
    "        clusters_col = 'author_cell_type',\n",
    "        sample_col = 'sample',\n",
    "        status = 'batch',\n",
    "        )"
   ]
  },
  {
   "cell_type": "code",
   "execution_count": 6,
   "id": "25e60657-7eac-4e43-9d02-715f84456941",
   "metadata": {
    "tags": []
   },
   "outputs": [],
   "source": [
    "pilot_mat <- anndata$uns$EMD_df"
   ]
  },
  {
   "cell_type": "code",
   "execution_count": 7,
   "id": "f02ced4f-3f50-4d30-bdca-21d4afac4d97",
   "metadata": {
    "tags": []
   },
   "outputs": [],
   "source": [
    "    pl$tl$wasserstein_distance(\n",
    "        anndata,\n",
    "        emb_matrix = 'X_pca',\n",
    "        clusters_col = 'leiden_k20_r1e.05_s1',\n",
    "        sample_col = 'sample',\n",
    "        status = 'batch',\n",
    "        )"
   ]
  },
  {
   "cell_type": "code",
   "execution_count": 8,
   "id": "9309b227-2560-42d9-8be4-dc8c6eea768e",
   "metadata": {
    "tags": []
   },
   "outputs": [],
   "source": [
    "pilot_mat_denovo <- anndata$uns$EMD_df"
   ]
  },
  {
   "cell_type": "code",
   "execution_count": 8,
   "id": "c265477f-3e35-42c3-bad4-716fb5c522eb",
   "metadata": {
    "tags": []
   },
   "outputs": [
    {
     "ename": "ERROR",
     "evalue": "Error: Could not find associated project in working directory or any parent directory.\n- Path in project: Code/Revision/clusprop/clusprop_helpers.R\n- Current working directory: /accounts/projects/epurdom/singlecell/pop_data/Code/BatchStudy\nPlease open the project associated with this file and try again.\n",
     "output_type": "error",
     "traceback": [
      "Error: Could not find associated project in working directory or any parent directory.\n- Path in project: Code/Revision/clusprop/clusprop_helpers.R\n- Current working directory: /accounts/projects/epurdom/singlecell/pop_data/Code/BatchStudy\nPlease open the project associated with this file and try again.\nTraceback:\n",
      "1. source(\"../Revision/cluspropSandbox/clusprop_helpers.R\")",
      "2. withVisible(eval(ei, envir))",
      "3. eval(ei, envir)",
      "4. eval(ei, envir)",
      "5. here::i_am(\"Code/Revision/clusprop/clusprop_helpers.R\")",
      "6. tryCatch(root_fun <- criterion$make_fix_file(), error = function(e) {\n .     stop(\"Could not find associated project in working directory or any parent directory.\\n\", \n .         \"- Path in project: \", path, \"\\n\", if (!is.null(uuid)) {\n .             paste0(\"- File must contain: \", uuid, \"\\n\")\n .         }, \"- Current working directory: \", mockable_getwd(), \n .         \"\\n\", \"Please open the project associated with this file and try again.\", \n .         call. = FALSE)\n . })",
      "7. tryCatchList(expr, classes, parentenv, handlers)",
      "8. tryCatchOne(expr, names, parentenv, handlers[[1L]])",
      "9. value[[3L]](cond)",
      "10. stop(\"Could not find associated project in working directory or any parent directory.\\n\", \n  .     \"- Path in project: \", path, \"\\n\", if (!is.null(uuid)) {\n  .         paste0(\"- File must contain: \", uuid, \"\\n\")\n  .     }, \"- Current working directory: \", mockable_getwd(), \"\\n\", \n  .     \"Please open the project associated with this file and try again.\", \n  .     call. = FALSE)"
     ]
    }
   ],
   "source": [
    "source(\"../Revision/cluspropSandbox/clusprop_helpers.R\")"
   ]
  },
  {
   "cell_type": "code",
   "execution_count": 12,
   "id": "d02fbb26-4cd3-4b45-bf26-9093467f0a7e",
   "metadata": {
    "tags": []
   },
   "outputs": [
    {
     "name": "stderr",
     "output_type": "stream",
     "text": [
      "Warning message in gloscope_proportion(anndata$obs$sample, anndata$obs$author_cell_type, :\n",
      "“There are elements haing 0 proportion! ep has been set to be 0.5.”\n"
     ]
    }
   ],
   "source": [
    "    gloscope_proportion_mat <- gloscope_proportion(anndata$obs$sample,\n",
    "        anndata$obs$author_cell_type, ep = 0.5, dist_mat = \"KL\")"
   ]
  },
  {
   "cell_type": "code",
   "execution_count": 13,
   "id": "3981d5ae-85cc-4888-822c-48df0e6f5e6f",
   "metadata": {
    "tags": []
   },
   "outputs": [
    {
     "name": "stderr",
     "output_type": "stream",
     "text": [
      "Warning message in gloscope_proportion(anndata$obs$sample, anndata$obs$leiden_k20_r1e.05_s1, :\n",
      "“There are elements haing 0 proportion! ep has been set to be 0.5.”\n"
     ]
    }
   ],
   "source": [
    "    gloscope_proportion_mat_denovo <- gloscope_proportion(anndata$obs$sample,\n",
    "        anndata$obs$leiden_k20_r1e.05_s1, ep = 0.5, dist_mat = \"KL\")"
   ]
  },
  {
   "cell_type": "code",
   "execution_count": 15,
   "id": "bb4d9d04-3f92-44df-a158-009ff25d823a",
   "metadata": {},
   "outputs": [],
   "source": [
    "save(pilot_mat,gloscope_proportion_mat, \n",
    "     pilot_mat_denovo,gloscope_proportion_mat_denovo, file = \"../../results/BatchStudy/Perez_pilot.Rda\")"
   ]
  },
  {
   "cell_type": "code",
   "execution_count": null,
   "id": "5bf1a5f4-ecd7-45a7-9c03-c5acc4634010",
   "metadata": {},
   "outputs": [],
   "source": []
  },
  {
   "cell_type": "code",
   "execution_count": null,
   "id": "8045786a-389f-4108-b592-5f44be1dec3c",
   "metadata": {},
   "outputs": [],
   "source": []
  },
  {
   "cell_type": "code",
   "execution_count": 39,
   "id": "c71081da-5773-43f3-93dc-772c1e8353f1",
   "metadata": {
    "tags": []
   },
   "outputs": [],
   "source": [
    "anndata <- sc$read_h5ad(\"../Revision/clusprop/clustered_data/stephensonCOVIDPBMC.h5ad\")\n"
   ]
  },
  {
   "cell_type": "code",
   "execution_count": 40,
   "id": "f3116c1a-ea12-4604-be70-20b7928736fd",
   "metadata": {
    "tags": []
   },
   "outputs": [],
   "source": [
    "    pl$tl$wasserstein_distance(\n",
    "        anndata,\n",
    "        emb_matrix = 'X_pca',\n",
    "        clusters_col = 'cell_type',\n",
    "        sample_col = 'sample',\n",
    "        status = 'group',\n",
    "        )"
   ]
  },
  {
   "cell_type": "code",
   "execution_count": 41,
   "id": "49e4736c-cd51-4bf2-8458-7e962abd9bfa",
   "metadata": {
    "tags": []
   },
   "outputs": [],
   "source": [
    "pilot_mat <- anndata$uns$EMD_df"
   ]
  },
  {
   "cell_type": "code",
   "execution_count": 44,
   "id": "f42135a5-f98f-4ac0-81c8-639b9bf4202d",
   "metadata": {
    "tags": []
   },
   "outputs": [],
   "source": [
    "    pl$tl$wasserstein_distance(\n",
    "        anndata,\n",
    "        emb_matrix = 'X_pca',\n",
    "        clusters_col = 'leiden_k20_r1e-05_s1',\n",
    "        sample_col = 'sample',\n",
    "        status = 'batch',\n",
    "        )\n",
    "pilot_mat_denovo <- anndata$uns$EMD_df"
   ]
  },
  {
   "cell_type": "code",
   "execution_count": 45,
   "id": "4763ed41-7fc4-4d7a-adc8-6280635ca1cf",
   "metadata": {
    "tags": []
   },
   "outputs": [
    {
     "name": "stderr",
     "output_type": "stream",
     "text": [
      "Warning message in gloscope_proportion(anndata$obs$sample, anndata$obs$cell_type, :\n",
      "“There are elements haing 0 proportion! ep has been set to be 0.5.”\n",
      "Warning message in gloscope_proportion(anndata$obs$sample, anndata$obs$`leiden_k20_r1e-05_s1`, :\n",
      "“There are elements haing 0 proportion! ep has been set to be 0.5.”\n"
     ]
    }
   ],
   "source": [
    "    gloscope_proportion_mat <- gloscope_proportion(anndata$obs$sample,\n",
    "        anndata$obs$cell_type, ep = 0.5, dist_mat = \"KL\")\n",
    "    gloscope_proportion_mat_denovo <- gloscope_proportion(anndata$obs$sample,\n",
    "        anndata$obs$`leiden_k20_r1e-05_s1`, ep = 0.5, dist_mat = \"KL\")"
   ]
  },
  {
   "cell_type": "code",
   "execution_count": 46,
   "id": "56a32156-d772-465c-a2a9-1a52d6c398c6",
   "metadata": {
    "tags": []
   },
   "outputs": [],
   "source": [
    "save(pilot_mat,gloscope_proportion_mat,\n",
    "     pilot_mat_denovo,gloscope_proportion_mat_denovo,\n",
    "     file = \"../../results/BatchStudy/Covid143_pilot.Rda\")"
   ]
  },
  {
   "cell_type": "code",
   "execution_count": null,
   "id": "6ba4199e-fd24-4447-9219-7b8c374c1619",
   "metadata": {},
   "outputs": [],
   "source": []
  },
  {
   "cell_type": "code",
   "execution_count": 22,
   "id": "011dccfd-4c6c-42f2-a014-e2d32a8e8fc4",
   "metadata": {
    "tags": []
   },
   "outputs": [],
   "source": [
    "anndata <- sc$read_h5ad(\"../Revision/clusprop/clustered_data/fabreLiver.h5ad\")\n"
   ]
  },
  {
   "cell_type": "code",
   "execution_count": 23,
   "id": "1948ca65-116f-42ca-bcd7-75c2697f45fd",
   "metadata": {
    "tags": []
   },
   "outputs": [],
   "source": [
    "    pl$tl$wasserstein_distance(\n",
    "        anndata,\n",
    "        emb_matrix = 'X_pca',\n",
    "        clusters_col = 'cell_type__ontology_label',\n",
    "        sample_col = 'sample',\n",
    "        status = 'group',\n",
    "        )"
   ]
  },
  {
   "cell_type": "code",
   "execution_count": 24,
   "id": "09d59364-ba20-44c1-9bb6-936acd465998",
   "metadata": {
    "tags": []
   },
   "outputs": [],
   "source": [
    "pilot_mat <- anndata$uns$EMD_df"
   ]
  },
  {
   "cell_type": "code",
   "execution_count": 27,
   "id": "b1d7464e-1245-4e37-bf37-6f50232d269d",
   "metadata": {
    "tags": []
   },
   "outputs": [],
   "source": [
    "    pl$tl$wasserstein_distance(\n",
    "        anndata,\n",
    "        emb_matrix = 'X_pca',\n",
    "        clusters_col = 'leiden_k20_r1e-05_s1',\n",
    "        sample_col = 'sample',\n",
    "        status = 'batch',\n",
    "        )\n",
    "pilot_mat_denovo <- anndata$uns$EMD_df"
   ]
  },
  {
   "cell_type": "code",
   "execution_count": 29,
   "id": "590ef3be-0633-4e25-b11e-7130ebd0d9ad",
   "metadata": {
    "tags": []
   },
   "outputs": [
    {
     "name": "stderr",
     "output_type": "stream",
     "text": [
      "Warning message in gloscope_proportion(anndata$obs$sample, anndata$obs$cell_type__ontology_label, :\n",
      "“There are elements haing 0 proportion! ep has been set to be 0.5.”\n",
      "Warning message in gloscope_proportion(anndata$obs$sample, anndata$obs$`leiden_k20_r1e-05_s1`, :\n",
      "“There are elements haing 0 proportion! ep has been set to be 0.5.”\n"
     ]
    }
   ],
   "source": [
    "    gloscope_proportion_mat <- gloscope_proportion(anndata$obs$sample,\n",
    "        anndata$obs$cell_type__ontology_label, ep = 0.5, dist_mat = \"KL\")\n",
    "    gloscope_proportion_mat_denovo <- gloscope_proportion(anndata$obs$sample,\n",
    "        anndata$obs$`leiden_k20_r1e-05_s1`, ep = 0.5, dist_mat = \"KL\")"
   ]
  },
  {
   "cell_type": "code",
   "execution_count": 31,
   "id": "fdb9ea17-d02b-4c5c-88b7-c02ccc95880a",
   "metadata": {
    "tags": []
   },
   "outputs": [],
   "source": [
    "save(pilot_mat,gloscope_proportion_mat, \n",
    "     pilot_mat_denovo,gloscope_proportion_mat_denovo,\n",
    "     file = \"../../results/BatchStudy/fabreLiver_pilot.Rda\")"
   ]
  },
  {
   "cell_type": "code",
   "execution_count": null,
   "id": "72253b71-25df-4c14-a5b2-e26eadd77c9d",
   "metadata": {},
   "outputs": [],
   "source": []
  },
  {
   "cell_type": "code",
   "execution_count": 32,
   "id": "0a356c22-6444-40bc-aaec-ce4b5ed895a6",
   "metadata": {
    "tags": []
   },
   "outputs": [],
   "source": [
    "anndata <- sc$read_h5ad(\"../Revision/clusprop/clustered_data/fabreLung.h5ad\")\n"
   ]
  },
  {
   "cell_type": "code",
   "execution_count": 33,
   "id": "549bc63b-b2cc-4edb-bbe9-41dcdc264675",
   "metadata": {
    "tags": []
   },
   "outputs": [],
   "source": [
    "    pl$tl$wasserstein_distance(\n",
    "        anndata,\n",
    "        emb_matrix = 'X_pca',\n",
    "        clusters_col = 'cell_type__ontology_label',\n",
    "        sample_col = 'sample',\n",
    "        status = 'group',\n",
    "        )"
   ]
  },
  {
   "cell_type": "code",
   "execution_count": 34,
   "id": "6d4a3764-2c38-415f-8364-e15227d7d372",
   "metadata": {
    "tags": []
   },
   "outputs": [],
   "source": [
    "pilot_mat <- anndata$uns$EMD_df"
   ]
  },
  {
   "cell_type": "code",
   "execution_count": 35,
   "id": "4237df66-3b62-400a-9347-16227dda8f3b",
   "metadata": {
    "tags": []
   },
   "outputs": [],
   "source": [
    "    pl$tl$wasserstein_distance(\n",
    "        anndata,\n",
    "        emb_matrix = 'X_pca',\n",
    "        clusters_col = 'leiden_k20_r1e-05_s1',\n",
    "        sample_col = 'sample',\n",
    "        status = 'batch',\n",
    "        )\n",
    "pilot_mat_denovo <- anndata$uns$EMD_df"
   ]
  },
  {
   "cell_type": "code",
   "execution_count": 37,
   "id": "d087d726-881f-4273-bd13-8df0f9da3218",
   "metadata": {
    "tags": []
   },
   "outputs": [
    {
     "name": "stderr",
     "output_type": "stream",
     "text": [
      "Warning message in gloscope_proportion(anndata$obs$sample, anndata$obs$cell_type__ontology_label, :\n",
      "“There are elements haing 0 proportion! ep has been set to be 0.5.”\n",
      "Warning message in gloscope_proportion(anndata$obs$sample, anndata$obs$`leiden_k20_r1e-05_s1`, :\n",
      "“There are elements haing 0 proportion! ep has been set to be 0.5.”\n"
     ]
    }
   ],
   "source": [
    "    gloscope_proportion_mat <- gloscope_proportion(anndata$obs$sample,\n",
    "        anndata$obs$cell_type__ontology_label, ep = 0.5, dist_mat = \"KL\")\n",
    "\n",
    "    gloscope_proportion_mat_denovo <- gloscope_proportion(anndata$obs$sample,\n",
    "        anndata$obs$`leiden_k20_r1e-05_s1`, ep = 0.5, dist_mat = \"KL\")"
   ]
  },
  {
   "cell_type": "code",
   "execution_count": 38,
   "id": "cb9647da-6be0-4ed9-8708-e1e17c0a240f",
   "metadata": {
    "tags": []
   },
   "outputs": [],
   "source": [
    "save(pilot_mat,gloscope_proportion_mat, \n",
    "     pilot_mat_denovo,gloscope_proportion_mat_denovo,\n",
    "     file = \"../../results/BatchStudy/fabreLung_pilot.Rda\")"
   ]
  },
  {
   "cell_type": "code",
   "execution_count": null,
   "id": "21ec1aa7-3841-4c6a-9f2f-dfd7ed52883c",
   "metadata": {},
   "outputs": [],
   "source": []
  }
 ],
 "metadata": {
  "kernelspec": {
   "display_name": "R",
   "language": "R",
   "name": "ir"
  },
  "language_info": {
   "codemirror_mode": "r",
   "file_extension": ".r",
   "mimetype": "text/x-r-source",
   "name": "R",
   "pygments_lexer": "r",
   "version": "4.4.0"
  }
 },
 "nbformat": 4,
 "nbformat_minor": 5
}
